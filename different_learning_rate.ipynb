{
  "cells": [
    {
      "cell_type": "markdown",
      "id": "a02285e6",
      "metadata": {
        "id": "a02285e6"
      },
      "source": [
        "# Starter Notebook"
      ]
    },
    {
      "cell_type": "markdown",
      "id": "bdcc5329",
      "metadata": {
        "id": "bdcc5329"
      },
      "source": [
        "Install and import required libraries"
      ]
    },
    {
      "cell_type": "code",
      "execution_count": 1,
      "id": "348ceed6-b684-46c3-8a32-9bb640c9a9d7",
      "metadata": {
        "colab": {
          "base_uri": "https://localhost:8080/"
        },
        "id": "348ceed6-b684-46c3-8a32-9bb640c9a9d7",
        "outputId": "9158dc52-fa63-451f-841c-180550a0a7ef"
      },
      "outputs": [
        {
          "output_type": "stream",
          "name": "stdout",
          "text": [
            "Requirement already satisfied: transformers in /usr/local/lib/python3.11/dist-packages (4.51.3)\n",
            "Requirement already satisfied: datasets in /usr/local/lib/python3.11/dist-packages (3.5.0)\n",
            "Requirement already satisfied: evaluate in /usr/local/lib/python3.11/dist-packages (0.4.3)\n",
            "Requirement already satisfied: accelerate in /usr/local/lib/python3.11/dist-packages (1.5.2)\n",
            "Requirement already satisfied: peft in /usr/local/lib/python3.11/dist-packages (0.14.0)\n",
            "Requirement already satisfied: trl in /usr/local/lib/python3.11/dist-packages (0.16.1)\n",
            "Requirement already satisfied: bitsandbytes in /usr/local/lib/python3.11/dist-packages (0.45.5)\n",
            "Requirement already satisfied: filelock in /usr/local/lib/python3.11/dist-packages (from transformers) (3.18.0)\n",
            "Requirement already satisfied: huggingface-hub<1.0,>=0.30.0 in /usr/local/lib/python3.11/dist-packages (from transformers) (0.30.2)\n",
            "Requirement already satisfied: numpy>=1.17 in /usr/local/lib/python3.11/dist-packages (from transformers) (2.0.2)\n",
            "Requirement already satisfied: packaging>=20.0 in /usr/local/lib/python3.11/dist-packages (from transformers) (24.2)\n",
            "Requirement already satisfied: pyyaml>=5.1 in /usr/local/lib/python3.11/dist-packages (from transformers) (6.0.2)\n",
            "Requirement already satisfied: regex!=2019.12.17 in /usr/local/lib/python3.11/dist-packages (from transformers) (2024.11.6)\n",
            "Requirement already satisfied: requests in /usr/local/lib/python3.11/dist-packages (from transformers) (2.32.3)\n",
            "Requirement already satisfied: tokenizers<0.22,>=0.21 in /usr/local/lib/python3.11/dist-packages (from transformers) (0.21.1)\n",
            "Requirement already satisfied: safetensors>=0.4.3 in /usr/local/lib/python3.11/dist-packages (from transformers) (0.5.3)\n",
            "Requirement already satisfied: tqdm>=4.27 in /usr/local/lib/python3.11/dist-packages (from transformers) (4.67.1)\n",
            "Requirement already satisfied: pyarrow>=15.0.0 in /usr/local/lib/python3.11/dist-packages (from datasets) (18.1.0)\n",
            "Requirement already satisfied: dill<0.3.9,>=0.3.0 in /usr/local/lib/python3.11/dist-packages (from datasets) (0.3.8)\n",
            "Requirement already satisfied: pandas in /usr/local/lib/python3.11/dist-packages (from datasets) (2.2.2)\n",
            "Requirement already satisfied: xxhash in /usr/local/lib/python3.11/dist-packages (from datasets) (3.5.0)\n",
            "Requirement already satisfied: multiprocess<0.70.17 in /usr/local/lib/python3.11/dist-packages (from datasets) (0.70.16)\n",
            "Requirement already satisfied: fsspec<=2024.12.0,>=2023.1.0 in /usr/local/lib/python3.11/dist-packages (from fsspec[http]<=2024.12.0,>=2023.1.0->datasets) (2024.12.0)\n",
            "Requirement already satisfied: aiohttp in /usr/local/lib/python3.11/dist-packages (from datasets) (3.11.15)\n",
            "Requirement already satisfied: psutil in /usr/local/lib/python3.11/dist-packages (from accelerate) (5.9.5)\n",
            "Requirement already satisfied: torch>=2.0.0 in /usr/local/lib/python3.11/dist-packages (from accelerate) (2.6.0+cu124)\n",
            "Requirement already satisfied: rich in /usr/local/lib/python3.11/dist-packages (from trl) (13.9.4)\n",
            "Requirement already satisfied: aiohappyeyeballs>=2.3.0 in /usr/local/lib/python3.11/dist-packages (from aiohttp->datasets) (2.6.1)\n",
            "Requirement already satisfied: aiosignal>=1.1.2 in /usr/local/lib/python3.11/dist-packages (from aiohttp->datasets) (1.3.2)\n",
            "Requirement already satisfied: attrs>=17.3.0 in /usr/local/lib/python3.11/dist-packages (from aiohttp->datasets) (25.3.0)\n",
            "Requirement already satisfied: frozenlist>=1.1.1 in /usr/local/lib/python3.11/dist-packages (from aiohttp->datasets) (1.5.0)\n",
            "Requirement already satisfied: multidict<7.0,>=4.5 in /usr/local/lib/python3.11/dist-packages (from aiohttp->datasets) (6.4.3)\n",
            "Requirement already satisfied: propcache>=0.2.0 in /usr/local/lib/python3.11/dist-packages (from aiohttp->datasets) (0.3.1)\n",
            "Requirement already satisfied: yarl<2.0,>=1.17.0 in /usr/local/lib/python3.11/dist-packages (from aiohttp->datasets) (1.19.0)\n",
            "Requirement already satisfied: typing-extensions>=3.7.4.3 in /usr/local/lib/python3.11/dist-packages (from huggingface-hub<1.0,>=0.30.0->transformers) (4.13.2)\n",
            "Requirement already satisfied: charset-normalizer<4,>=2 in /usr/local/lib/python3.11/dist-packages (from requests->transformers) (3.4.1)\n",
            "Requirement already satisfied: idna<4,>=2.5 in /usr/local/lib/python3.11/dist-packages (from requests->transformers) (3.10)\n",
            "Requirement already satisfied: urllib3<3,>=1.21.1 in /usr/local/lib/python3.11/dist-packages (from requests->transformers) (2.3.0)\n",
            "Requirement already satisfied: certifi>=2017.4.17 in /usr/local/lib/python3.11/dist-packages (from requests->transformers) (2025.1.31)\n",
            "Requirement already satisfied: networkx in /usr/local/lib/python3.11/dist-packages (from torch>=2.0.0->accelerate) (3.4.2)\n",
            "Requirement already satisfied: jinja2 in /usr/local/lib/python3.11/dist-packages (from torch>=2.0.0->accelerate) (3.1.6)\n",
            "Requirement already satisfied: nvidia-cuda-nvrtc-cu12==12.4.127 in /usr/local/lib/python3.11/dist-packages (from torch>=2.0.0->accelerate) (12.4.127)\n",
            "Requirement already satisfied: nvidia-cuda-runtime-cu12==12.4.127 in /usr/local/lib/python3.11/dist-packages (from torch>=2.0.0->accelerate) (12.4.127)\n",
            "Requirement already satisfied: nvidia-cuda-cupti-cu12==12.4.127 in /usr/local/lib/python3.11/dist-packages (from torch>=2.0.0->accelerate) (12.4.127)\n",
            "Requirement already satisfied: nvidia-cudnn-cu12==9.1.0.70 in /usr/local/lib/python3.11/dist-packages (from torch>=2.0.0->accelerate) (9.1.0.70)\n",
            "Requirement already satisfied: nvidia-cublas-cu12==12.4.5.8 in /usr/local/lib/python3.11/dist-packages (from torch>=2.0.0->accelerate) (12.4.5.8)\n",
            "Requirement already satisfied: nvidia-cufft-cu12==11.2.1.3 in /usr/local/lib/python3.11/dist-packages (from torch>=2.0.0->accelerate) (11.2.1.3)\n",
            "Requirement already satisfied: nvidia-curand-cu12==10.3.5.147 in /usr/local/lib/python3.11/dist-packages (from torch>=2.0.0->accelerate) (10.3.5.147)\n",
            "Requirement already satisfied: nvidia-cusolver-cu12==11.6.1.9 in /usr/local/lib/python3.11/dist-packages (from torch>=2.0.0->accelerate) (11.6.1.9)\n",
            "Requirement already satisfied: nvidia-cusparse-cu12==12.3.1.170 in /usr/local/lib/python3.11/dist-packages (from torch>=2.0.0->accelerate) (12.3.1.170)\n",
            "Requirement already satisfied: nvidia-cusparselt-cu12==0.6.2 in /usr/local/lib/python3.11/dist-packages (from torch>=2.0.0->accelerate) (0.6.2)\n",
            "Requirement already satisfied: nvidia-nccl-cu12==2.21.5 in /usr/local/lib/python3.11/dist-packages (from torch>=2.0.0->accelerate) (2.21.5)\n",
            "Requirement already satisfied: nvidia-nvtx-cu12==12.4.127 in /usr/local/lib/python3.11/dist-packages (from torch>=2.0.0->accelerate) (12.4.127)\n",
            "Requirement already satisfied: nvidia-nvjitlink-cu12==12.4.127 in /usr/local/lib/python3.11/dist-packages (from torch>=2.0.0->accelerate) (12.4.127)\n",
            "Requirement already satisfied: triton==3.2.0 in /usr/local/lib/python3.11/dist-packages (from torch>=2.0.0->accelerate) (3.2.0)\n",
            "Requirement already satisfied: sympy==1.13.1 in /usr/local/lib/python3.11/dist-packages (from torch>=2.0.0->accelerate) (1.13.1)\n",
            "Requirement already satisfied: mpmath<1.4,>=1.1.0 in /usr/local/lib/python3.11/dist-packages (from sympy==1.13.1->torch>=2.0.0->accelerate) (1.3.0)\n",
            "Requirement already satisfied: python-dateutil>=2.8.2 in /usr/local/lib/python3.11/dist-packages (from pandas->datasets) (2.8.2)\n",
            "Requirement already satisfied: pytz>=2020.1 in /usr/local/lib/python3.11/dist-packages (from pandas->datasets) (2025.2)\n",
            "Requirement already satisfied: tzdata>=2022.7 in /usr/local/lib/python3.11/dist-packages (from pandas->datasets) (2025.2)\n",
            "Requirement already satisfied: markdown-it-py>=2.2.0 in /usr/local/lib/python3.11/dist-packages (from rich->trl) (3.0.0)\n",
            "Requirement already satisfied: pygments<3.0.0,>=2.13.0 in /usr/local/lib/python3.11/dist-packages (from rich->trl) (2.18.0)\n",
            "Requirement already satisfied: mdurl~=0.1 in /usr/local/lib/python3.11/dist-packages (from markdown-it-py>=2.2.0->rich->trl) (0.1.2)\n",
            "Requirement already satisfied: six>=1.5 in /usr/local/lib/python3.11/dist-packages (from python-dateutil>=2.8.2->pandas->datasets) (1.17.0)\n",
            "Requirement already satisfied: MarkupSafe>=2.0 in /usr/local/lib/python3.11/dist-packages (from jinja2->torch>=2.0.0->accelerate) (3.0.2)\n",
            "Requirement already satisfied: nvidia-ml-py3 in /usr/local/lib/python3.11/dist-packages (7.352.0)\n"
          ]
        }
      ],
      "source": [
        "!pip install transformers datasets evaluate accelerate peft trl bitsandbytes\n",
        "!pip install nvidia-ml-py3"
      ]
    },
    {
      "cell_type": "code",
      "execution_count": 2,
      "id": "cca64f38-d8d2-4313-8295-fbbd43c2a263",
      "metadata": {
        "id": "cca64f38-d8d2-4313-8295-fbbd43c2a263"
      },
      "outputs": [],
      "source": [
        "import os\n",
        "import pandas as pd\n",
        "import torch\n",
        "from transformers import RobertaModel, RobertaTokenizer, TrainingArguments, Trainer, DataCollatorWithPadding, RobertaForSequenceClassification\n",
        "from peft import LoraConfig, get_peft_model, PeftModel\n",
        "from datasets import load_dataset, Dataset, ClassLabel\n",
        "import pickle"
      ]
    },
    {
      "cell_type": "markdown",
      "id": "59d6e377",
      "metadata": {
        "id": "59d6e377"
      },
      "source": [
        "## Load Tokenizer and Preprocess Data"
      ]
    },
    {
      "cell_type": "code",
      "execution_count": 3,
      "id": "21f42747-f551-40a5-a95f-7affb1eba4a3",
      "metadata": {
        "id": "21f42747-f551-40a5-a95f-7affb1eba4a3",
        "colab": {
          "base_uri": "https://localhost:8080/"
        },
        "outputId": "9f2f5534-3877-4021-bb3d-af6d8e379f28"
      },
      "outputs": [
        {
          "output_type": "stream",
          "name": "stderr",
          "text": [
            "/usr/local/lib/python3.11/dist-packages/huggingface_hub/utils/_auth.py:94: UserWarning: \n",
            "The secret `HF_TOKEN` does not exist in your Colab secrets.\n",
            "To authenticate with the Hugging Face Hub, create a token in your settings tab (https://huggingface.co/settings/tokens), set it as secret in your Google Colab and restart your session.\n",
            "You will be able to reuse this secret in all of your notebooks.\n",
            "Please note that authentication is recommended but still optional to access public models or datasets.\n",
            "  warnings.warn(\n"
          ]
        }
      ],
      "source": [
        "base_model = 'roberta-base'\n",
        "\n",
        "dataset = load_dataset('ag_news', split='train')\n",
        "tokenizer = RobertaTokenizer.from_pretrained(base_model)\n",
        "\n",
        "def preprocess(examples):\n",
        "    tokenized = tokenizer(examples['text'], truncation=True, padding=True)\n",
        "    return tokenized\n",
        "\n",
        "tokenized_dataset = dataset.map(preprocess, batched=True,  remove_columns=[\"text\"])\n",
        "tokenized_dataset = tokenized_dataset.rename_column(\"label\", \"labels\")"
      ]
    },
    {
      "cell_type": "code",
      "execution_count": 4,
      "id": "9e07f641-bec0-43a6-8c26-510d7642916a",
      "metadata": {
        "colab": {
          "base_uri": "https://localhost:8080/"
        },
        "id": "9e07f641-bec0-43a6-8c26-510d7642916a",
        "outputId": "3aed90b9-7f3b-41d8-a1d1-49e8503b4878"
      },
      "outputs": [
        {
          "output_type": "stream",
          "name": "stdout",
          "text": [
            "number of labels: 4\n",
            "the labels: ['World', 'Sports', 'Business', 'Sci/Tech']\n"
          ]
        }
      ],
      "source": [
        "# Extract the number of classess and their names\n",
        "num_labels = dataset.features['label'].num_classes\n",
        "class_names = dataset.features[\"label\"].names\n",
        "print(f\"number of labels: {num_labels}\")\n",
        "print(f\"the labels: {class_names}\")\n",
        "\n",
        "# Create an id2label mapping\n",
        "# We will need this for our classifier.\n",
        "id2label = {i: label for i, label in enumerate(class_names)}\n",
        "\n",
        "data_collator = DataCollatorWithPadding(tokenizer=tokenizer, return_tensors=\"pt\")\n"
      ]
    },
    {
      "cell_type": "markdown",
      "id": "c9e24afd",
      "metadata": {
        "id": "c9e24afd"
      },
      "source": [
        "## Load Pre-trained Model\n",
        "Set up config for pretrained model and download it from hugging face"
      ]
    },
    {
      "cell_type": "code",
      "execution_count": 5,
      "id": "262a8416-a59c-4ea1-95d9-0b1f81d6094c",
      "metadata": {
        "colab": {
          "base_uri": "https://localhost:8080/"
        },
        "id": "262a8416-a59c-4ea1-95d9-0b1f81d6094c",
        "outputId": "2cee0aa8-96d3-4895-aa72-0ee9cd124da4"
      },
      "outputs": [
        {
          "output_type": "stream",
          "name": "stderr",
          "text": [
            "Some weights of RobertaForSequenceClassification were not initialized from the model checkpoint at roberta-base and are newly initialized: ['classifier.dense.bias', 'classifier.dense.weight', 'classifier.out_proj.bias', 'classifier.out_proj.weight']\n",
            "You should probably TRAIN this model on a down-stream task to be able to use it for predictions and inference.\n"
          ]
        },
        {
          "output_type": "execute_result",
          "data": {
            "text/plain": [
              "RobertaForSequenceClassification(\n",
              "  (roberta): RobertaModel(\n",
              "    (embeddings): RobertaEmbeddings(\n",
              "      (word_embeddings): Embedding(50265, 768, padding_idx=1)\n",
              "      (position_embeddings): Embedding(514, 768, padding_idx=1)\n",
              "      (token_type_embeddings): Embedding(1, 768)\n",
              "      (LayerNorm): LayerNorm((768,), eps=1e-05, elementwise_affine=True)\n",
              "      (dropout): Dropout(p=0.1, inplace=False)\n",
              "    )\n",
              "    (encoder): RobertaEncoder(\n",
              "      (layer): ModuleList(\n",
              "        (0-11): 12 x RobertaLayer(\n",
              "          (attention): RobertaAttention(\n",
              "            (self): RobertaSdpaSelfAttention(\n",
              "              (query): Linear(in_features=768, out_features=768, bias=True)\n",
              "              (key): Linear(in_features=768, out_features=768, bias=True)\n",
              "              (value): Linear(in_features=768, out_features=768, bias=True)\n",
              "              (dropout): Dropout(p=0.1, inplace=False)\n",
              "            )\n",
              "            (output): RobertaSelfOutput(\n",
              "              (dense): Linear(in_features=768, out_features=768, bias=True)\n",
              "              (LayerNorm): LayerNorm((768,), eps=1e-05, elementwise_affine=True)\n",
              "              (dropout): Dropout(p=0.1, inplace=False)\n",
              "            )\n",
              "          )\n",
              "          (intermediate): RobertaIntermediate(\n",
              "            (dense): Linear(in_features=768, out_features=3072, bias=True)\n",
              "            (intermediate_act_fn): GELUActivation()\n",
              "          )\n",
              "          (output): RobertaOutput(\n",
              "            (dense): Linear(in_features=3072, out_features=768, bias=True)\n",
              "            (LayerNorm): LayerNorm((768,), eps=1e-05, elementwise_affine=True)\n",
              "            (dropout): Dropout(p=0.1, inplace=False)\n",
              "          )\n",
              "        )\n",
              "      )\n",
              "    )\n",
              "  )\n",
              "  (classifier): RobertaClassificationHead(\n",
              "    (dense): Linear(in_features=768, out_features=768, bias=True)\n",
              "    (dropout): Dropout(p=0.1, inplace=False)\n",
              "    (out_proj): Linear(in_features=768, out_features=4, bias=True)\n",
              "  )\n",
              ")"
            ]
          },
          "metadata": {},
          "execution_count": 5
        }
      ],
      "source": [
        "model = RobertaForSequenceClassification.from_pretrained(\n",
        "    base_model,\n",
        "    id2label=id2label)\n",
        "model"
      ]
    },
    {
      "cell_type": "markdown",
      "id": "f265839d-a088-4693-8474-862641de11ed",
      "metadata": {
        "id": "f265839d-a088-4693-8474-862641de11ed"
      },
      "source": [
        "## Anything from here on can be modified"
      ]
    },
    {
      "cell_type": "code",
      "execution_count": 6,
      "id": "e7413430-be57-482b-856e-36bd4ba799df",
      "metadata": {
        "id": "e7413430-be57-482b-856e-36bd4ba799df"
      },
      "outputs": [],
      "source": [
        "# Split the original training set\n",
        "split_datasets = tokenized_dataset.train_test_split(test_size=640, seed=42)\n",
        "train_dataset = split_datasets['train']\n",
        "eval_dataset = split_datasets['test']"
      ]
    },
    {
      "cell_type": "markdown",
      "id": "652452e3",
      "metadata": {
        "id": "652452e3"
      },
      "source": [
        "## Setup LoRA Config\n",
        "Setup PEFT config and get peft model for finetuning"
      ]
    },
    {
      "cell_type": "code",
      "source": [
        "# To track evaluation accuracy during training\n",
        "from sklearn.metrics import accuracy_score, precision_score, recall_score, f1_score\n",
        "\n",
        "def compute_metrics(pred):\n",
        "    labels = pred.label_ids\n",
        "    preds = pred.predictions.argmax(-1)\n",
        "    # Calculate accuracy\n",
        "    accuracy = accuracy_score(labels, preds)\n",
        "    return {\n",
        "        'accuracy': accuracy\n",
        "    }"
      ],
      "metadata": {
        "id": "jX7cb7Yw6zi9"
      },
      "id": "jX7cb7Yw6zi9",
      "execution_count": 7,
      "outputs": []
    },
    {
      "cell_type": "code",
      "source": [
        "from torch.utils.data import DataLoader\n",
        "import evaluate\n",
        "from tqdm import tqdm\n",
        "\n",
        "def evaluate_model(inference_model, dataset, labelled=True, batch_size=8, data_collator=None):\n",
        "    \"\"\"\n",
        "    Evaluate a PEFT model on a dataset.\n",
        "\n",
        "    Args:\n",
        "        inference_model: The model to evaluate.\n",
        "        dataset: The dataset (Hugging Face Dataset) to run inference on.\n",
        "        labelled (bool): If True, the dataset includes labels and metrics will be computed.\n",
        "                         If False, only predictions will be returned.\n",
        "        batch_size (int): Batch size for inference.\n",
        "        data_collator: Function to collate batches. If None, the default collate_fn is used.\n",
        "\n",
        "    Returns:\n",
        "        If labelled is True, returns a tuple (metrics, predictions)\n",
        "        If labelled is False, returns the predictions.\n",
        "    \"\"\"\n",
        "    # Create the DataLoader\n",
        "    eval_dataloader = DataLoader(dataset, batch_size=batch_size, collate_fn=data_collator)\n",
        "    device = torch.device(\"cuda\" if torch.cuda.is_available() else \"cpu\")\n",
        "\n",
        "    inference_model.to(device)\n",
        "    inference_model.eval()\n",
        "\n",
        "    all_predictions = []\n",
        "    if labelled:\n",
        "        metric = evaluate.load('accuracy')\n",
        "\n",
        "    # Loop over the DataLoader\n",
        "    for batch in tqdm(eval_dataloader):\n",
        "        # Move each tensor in the batch to the device\n",
        "        batch = {k: v.to(device) for k, v in batch.items()}\n",
        "        with torch.no_grad():\n",
        "            outputs = inference_model(**batch)\n",
        "        predictions = outputs.logits.argmax(dim=-1)\n",
        "        all_predictions.append(predictions.cpu())\n",
        "\n",
        "        if labelled:\n",
        "            # Expecting that labels are provided under the \"labels\" key.\n",
        "            references = batch[\"labels\"]\n",
        "            metric.add_batch(\n",
        "                predictions=predictions.cpu().numpy(),\n",
        "                references=references.cpu().numpy()\n",
        "            )\n",
        "\n",
        "    # Concatenate predictions from all batches\n",
        "    all_predictions = torch.cat(all_predictions, dim=0)\n",
        "\n",
        "    if labelled:\n",
        "        eval_metric = metric.compute()\n",
        "        print(\"Evaluation Metric:\", eval_metric)\n",
        "        return eval_metric, all_predictions\n",
        "    else:\n",
        "        return all_predictions"
      ],
      "metadata": {
        "id": "sv8K8ZGC7nNc"
      },
      "id": "sv8K8ZGC7nNc",
      "execution_count": 8,
      "outputs": []
    },
    {
      "cell_type": "code",
      "execution_count": 9,
      "id": "bd0ca0ea-86b8-47f7-8cbf-83da25685876",
      "metadata": {
        "id": "bd0ca0ea-86b8-47f7-8cbf-83da25685876",
        "colab": {
          "base_uri": "https://localhost:8080/",
          "height": 774
        },
        "outputId": "753424a5-b3f4-489d-a410-9d5bc03cc834"
      },
      "outputs": [
        {
          "output_type": "stream",
          "name": "stdout",
          "text": [
            "PEFT Model\n",
            "trainable params: 916,996 || all params: 125,463,560 || trainable%: 0.7309\n",
            "results/r=6/lora_alpha=6/lora_dropout=0.1/lr=5e-05/modules=query+key\n"
          ]
        },
        {
          "output_type": "stream",
          "name": "stderr",
          "text": [
            "No label_names provided for model class `PeftModelForSequenceClassification`. Since `PeftModel` hides base models input arguments, if label_names is not given, label_names can't be set automatically within `Trainer`. Note that empty label_names list will be used instead.\n",
            "\u001b[34m\u001b[1mwandb\u001b[0m: \u001b[33mWARNING\u001b[0m The `run_name` is currently set to the same value as `TrainingArguments.output_dir`. If this was not intended, please specify a different run name by setting the `TrainingArguments.run_name` parameter.\n",
            "\u001b[34m\u001b[1mwandb\u001b[0m: Using wandb-core as the SDK backend.  Please refer to https://wandb.me/wandb-core for more information.\n",
            "\u001b[34m\u001b[1mwandb\u001b[0m: Currently logged in as: \u001b[33mdkf595915002\u001b[0m (\u001b[33mdkf595915002-new-york-university\u001b[0m) to \u001b[32mhttps://api.wandb.ai\u001b[0m. Use \u001b[1m`wandb login --relogin`\u001b[0m to force relogin\n"
          ]
        },
        {
          "output_type": "display_data",
          "data": {
            "text/plain": [
              "<IPython.core.display.HTML object>"
            ],
            "text/html": [
              "Tracking run with wandb version 0.19.9"
            ]
          },
          "metadata": {}
        },
        {
          "output_type": "display_data",
          "data": {
            "text/plain": [
              "<IPython.core.display.HTML object>"
            ],
            "text/html": [
              "Run data is saved locally in <code>/content/wandb/run-20250421_235045-aj8qkb5y</code>"
            ]
          },
          "metadata": {}
        },
        {
          "output_type": "display_data",
          "data": {
            "text/plain": [
              "<IPython.core.display.HTML object>"
            ],
            "text/html": [
              "Syncing run <strong><a href='https://wandb.ai/dkf595915002-new-york-university/huggingface/runs/aj8qkb5y' target=\"_blank\">results/r=6/lora_alpha=6/lora_dropout=0.1/lr=5e-05/modules=query+key</a></strong> to <a href='https://wandb.ai/dkf595915002-new-york-university/huggingface' target=\"_blank\">Weights & Biases</a> (<a href='https://wandb.me/developer-guide' target=\"_blank\">docs</a>)<br>"
            ]
          },
          "metadata": {}
        },
        {
          "output_type": "display_data",
          "data": {
            "text/plain": [
              "<IPython.core.display.HTML object>"
            ],
            "text/html": [
              " View project at <a href='https://wandb.ai/dkf595915002-new-york-university/huggingface' target=\"_blank\">https://wandb.ai/dkf595915002-new-york-university/huggingface</a>"
            ]
          },
          "metadata": {}
        },
        {
          "output_type": "display_data",
          "data": {
            "text/plain": [
              "<IPython.core.display.HTML object>"
            ],
            "text/html": [
              " View run at <a href='https://wandb.ai/dkf595915002-new-york-university/huggingface/runs/aj8qkb5y' target=\"_blank\">https://wandb.ai/dkf595915002-new-york-university/huggingface/runs/aj8qkb5y</a>"
            ]
          },
          "metadata": {}
        },
        {
          "output_type": "display_data",
          "data": {
            "text/plain": [
              "<IPython.core.display.HTML object>"
            ],
            "text/html": [
              "\n",
              "    <div>\n",
              "      \n",
              "      <progress value='1500' max='1500' style='width:300px; height:20px; vertical-align: middle;'></progress>\n",
              "      [1500/1500 04:36, Epoch 0/1]\n",
              "    </div>\n",
              "    <table border=\"1\" class=\"dataframe\">\n",
              "  <thead>\n",
              " <tr style=\"text-align: left;\">\n",
              "      <th>Step</th>\n",
              "      <th>Training Loss</th>\n",
              "      <th>Validation Loss</th>\n",
              "      <th>Accuracy</th>\n",
              "    </tr>\n",
              "  </thead>\n",
              "  <tbody>\n",
              "    <tr>\n",
              "      <td>100</td>\n",
              "      <td>1.366600</td>\n",
              "      <td>1.314774</td>\n",
              "      <td>0.806250</td>\n",
              "    </tr>\n",
              "    <tr>\n",
              "      <td>200</td>\n",
              "      <td>1.064700</td>\n",
              "      <td>0.558528</td>\n",
              "      <td>0.871875</td>\n",
              "    </tr>\n",
              "    <tr>\n",
              "      <td>300</td>\n",
              "      <td>0.433800</td>\n",
              "      <td>0.340808</td>\n",
              "      <td>0.898438</td>\n",
              "    </tr>\n",
              "    <tr>\n",
              "      <td>400</td>\n",
              "      <td>0.318400</td>\n",
              "      <td>0.340042</td>\n",
              "      <td>0.896875</td>\n",
              "    </tr>\n",
              "    <tr>\n",
              "      <td>500</td>\n",
              "      <td>0.321200</td>\n",
              "      <td>0.328440</td>\n",
              "      <td>0.904687</td>\n",
              "    </tr>\n",
              "    <tr>\n",
              "      <td>600</td>\n",
              "      <td>0.317800</td>\n",
              "      <td>0.337882</td>\n",
              "      <td>0.892188</td>\n",
              "    </tr>\n",
              "    <tr>\n",
              "      <td>700</td>\n",
              "      <td>0.298500</td>\n",
              "      <td>0.328979</td>\n",
              "      <td>0.901563</td>\n",
              "    </tr>\n",
              "    <tr>\n",
              "      <td>800</td>\n",
              "      <td>0.326500</td>\n",
              "      <td>0.315079</td>\n",
              "      <td>0.903125</td>\n",
              "    </tr>\n",
              "    <tr>\n",
              "      <td>900</td>\n",
              "      <td>0.301900</td>\n",
              "      <td>0.320368</td>\n",
              "      <td>0.904687</td>\n",
              "    </tr>\n",
              "    <tr>\n",
              "      <td>1000</td>\n",
              "      <td>0.304700</td>\n",
              "      <td>0.319077</td>\n",
              "      <td>0.906250</td>\n",
              "    </tr>\n",
              "    <tr>\n",
              "      <td>1100</td>\n",
              "      <td>0.312500</td>\n",
              "      <td>0.313941</td>\n",
              "      <td>0.906250</td>\n",
              "    </tr>\n",
              "    <tr>\n",
              "      <td>1200</td>\n",
              "      <td>0.322800</td>\n",
              "      <td>0.313710</td>\n",
              "      <td>0.904687</td>\n",
              "    </tr>\n",
              "    <tr>\n",
              "      <td>1300</td>\n",
              "      <td>0.330200</td>\n",
              "      <td>0.316681</td>\n",
              "      <td>0.906250</td>\n",
              "    </tr>\n",
              "    <tr>\n",
              "      <td>1400</td>\n",
              "      <td>0.301300</td>\n",
              "      <td>0.314773</td>\n",
              "      <td>0.909375</td>\n",
              "    </tr>\n",
              "    <tr>\n",
              "      <td>1500</td>\n",
              "      <td>0.307900</td>\n",
              "      <td>0.314948</td>\n",
              "      <td>0.906250</td>\n",
              "    </tr>\n",
              "  </tbody>\n",
              "</table><p>"
            ]
          },
          "metadata": {}
        }
      ],
      "source": [
        "# PEFT Config\n",
        "# peft_config = LoraConfig(\n",
        "#     r=8,\n",
        "#     lora_alpha=16,\n",
        "#     lora_dropout=0.1,\n",
        "#     bias = 'none',\n",
        "#     target_modules = ['query', 'value'],\n",
        "#     task_type=\"SEQ_CLS\",\n",
        "# )\n",
        "r = 6\n",
        "lora_alpha_mul = 1\n",
        "lora_dropout = 0.1\n",
        "target_modules = ['query', 'key']\n",
        "learning_rate = 5e-5\n",
        "lora_alpha = r * lora_alpha_mul\n",
        "bias = 'all'\n",
        "task_type = 'SEQ_CLS'\n",
        "\n",
        "peft_config = LoraConfig(\n",
        "      r = r,\n",
        "      lora_alpha=lora_alpha,\n",
        "      lora_dropout=lora_dropout,\n",
        "      bias = bias,\n",
        "      target_modules = target_modules,\n",
        "      task_type=task_type,\n",
        ")\n",
        "peft_model = get_peft_model(model, peft_config)\n",
        "\n",
        "print('PEFT Model')\n",
        "peft_model.print_trainable_parameters()\n",
        "\n",
        "target_str = \"+\".join(target_modules)\n",
        "lr_str = f\"{learning_rate:.0e}\"\n",
        "output_dir = f\"results/r={r}/lora_alpha={lora_alpha}/lora_dropout={lora_dropout}/lr={lr_str}/modules={target_str}\"\n",
        "print(output_dir)\n",
        "training_args = TrainingArguments(\n",
        "  output_dir=output_dir,\n",
        "  report_to='wandb',\n",
        "  eval_strategy='steps',\n",
        "  logging_steps=100,\n",
        "  learning_rate = learning_rate,\n",
        "  num_train_epochs=5,\n",
        "  max_steps=1500,\n",
        "  use_cpu=False,\n",
        "  dataloader_num_workers=4,\n",
        "  per_device_train_batch_size=16,\n",
        "  per_device_eval_batch_size=64,\n",
        "  optim=\"adamw_torch\",\n",
        "  gradient_checkpointing=False,\n",
        "  gradient_checkpointing_kwargs={'use_reentrant':True}\n",
        ")\n",
        "# Setup Training args\n",
        "def get_trainer(model):\n",
        "  return  Trainer(\n",
        "    model=model,\n",
        "    args=training_args,\n",
        "    compute_metrics=compute_metrics,\n",
        "    train_dataset=train_dataset,\n",
        "    eval_dataset=eval_dataset,\n",
        "    data_collator=data_collator,\n",
        "  )\n",
        "\n",
        "peft_lora_finetuning_trainer = get_trainer(peft_model)\n",
        "\n",
        "result = peft_lora_finetuning_trainer.train()\n",
        "\n",
        "\n"
      ]
    },
    {
      "cell_type": "code",
      "execution_count": null,
      "id": "6ec2739d-76b6-4fde-91c2-0fc49e1884b0",
      "metadata": {
        "id": "6ec2739d-76b6-4fde-91c2-0fc49e1884b0"
      },
      "outputs": [],
      "source": [
        "peft_model = get_peft_model(model, peft_config)"
      ]
    },
    {
      "cell_type": "code",
      "execution_count": null,
      "id": "a769f54e-05ad-4e3c-aae8-d00d1d9dfb2f",
      "metadata": {
        "id": "a769f54e-05ad-4e3c-aae8-d00d1d9dfb2f"
      },
      "outputs": [],
      "source": [
        "# print(\"Trainable parameters:\")\n",
        "# for name, param in peft_model.named_parameters():\n",
        "#     if param.requires_grad:\n",
        "#         print(name)"
      ]
    },
    {
      "cell_type": "code",
      "execution_count": null,
      "id": "da45f85c-b016-4c49-8808-6eafa7cb5d1b",
      "metadata": {
        "colab": {
          "base_uri": "https://localhost:8080/"
        },
        "id": "da45f85c-b016-4c49-8808-6eafa7cb5d1b",
        "outputId": "959267a8-6c84-47a8-fa45-85983c25d337"
      },
      "outputs": [
        {
          "output_type": "stream",
          "name": "stdout",
          "text": [
            "PEFT Model\n",
            "trainable params: 980,740 || all params: 125,611,016 || trainable%: 0.7808\n"
          ]
        }
      ],
      "source": [
        "print('PEFT Model')\n",
        "peft_model.print_trainable_parameters()"
      ]
    },
    {
      "cell_type": "markdown",
      "id": "12284b58",
      "metadata": {
        "id": "12284b58"
      },
      "source": [
        "## Training Setup"
      ]
    },
    {
      "cell_type": "code",
      "execution_count": null,
      "id": "0ee64c43-fe38-479a-b3c5-7d939a3db4c1",
      "metadata": {
        "id": "0ee64c43-fe38-479a-b3c5-7d939a3db4c1"
      },
      "outputs": [],
      "source": [
        "# To track evaluation accuracy during training\n",
        "from sklearn.metrics import accuracy_score, precision_score, recall_score, f1_score\n",
        "\n",
        "def compute_metrics(pred):\n",
        "    labels = pred.label_ids\n",
        "    preds = pred.predictions.argmax(-1)\n",
        "    # Calculate accuracy\n",
        "    accuracy = accuracy_score(labels, preds)\n",
        "    return {\n",
        "        'accuracy': accuracy\n",
        "    }\n",
        "# Setup Training args\n",
        "output_dir = \"results\"\n",
        "training_args = TrainingArguments(\n",
        "    output_dir=output_dir,\n",
        "    report_to=None,\n",
        "    eval_strategy='steps',\n",
        "    logging_steps=100,\n",
        "    learning_rate=2e-5,\n",
        "    # learning_rate=1e-5,\n",
        "    num_train_epochs=5,\n",
        "    max_steps=1500,\n",
        "    use_cpu=False,\n",
        "    dataloader_num_workers=4,\n",
        "    per_device_train_batch_size=16,\n",
        "    per_device_eval_batch_size=64,\n",
        "    optim=\"adamw_torch\",\n",
        "    gradient_checkpointing=False,\n",
        "    gradient_checkpointing_kwargs={'use_reentrant':True}\n",
        ")\n",
        "\n",
        "def get_trainer(model):\n",
        "      return  Trainer(\n",
        "          model=model,\n",
        "          args=training_args,\n",
        "          compute_metrics=compute_metrics,\n",
        "          train_dataset=train_dataset,\n",
        "          eval_dataset=eval_dataset,\n",
        "          data_collator=data_collator,\n",
        "      )"
      ]
    },
    {
      "cell_type": "markdown",
      "id": "9b848278",
      "metadata": {
        "id": "9b848278"
      },
      "source": [
        "### Start Training"
      ]
    },
    {
      "cell_type": "code",
      "execution_count": null,
      "id": "98d9d57d-b57f-4acc-80fb-fc5443e75515",
      "metadata": {
        "colab": {
          "base_uri": "https://localhost:8080/",
          "height": 583
        },
        "id": "98d9d57d-b57f-4acc-80fb-fc5443e75515",
        "outputId": "61fc648a-fa12-4ef3-f81c-7d696382ac8b"
      },
      "outputs": [
        {
          "output_type": "stream",
          "name": "stderr",
          "text": [
            "No label_names provided for model class `PeftModelForSequenceClassification`. Since `PeftModel` hides base models input arguments, if label_names is not given, label_names can't be set automatically within `Trainer`. Note that empty label_names list will be used instead.\n"
          ]
        },
        {
          "output_type": "display_data",
          "data": {
            "text/plain": [
              "<IPython.core.display.HTML object>"
            ],
            "text/html": [
              "\n",
              "    <div>\n",
              "      \n",
              "      <progress value='1500' max='1500' style='width:300px; height:20px; vertical-align: middle;'></progress>\n",
              "      [1500/1500 08:41, Epoch 0/1]\n",
              "    </div>\n",
              "    <table border=\"1\" class=\"dataframe\">\n",
              "  <thead>\n",
              " <tr style=\"text-align: left;\">\n",
              "      <th>Step</th>\n",
              "      <th>Training Loss</th>\n",
              "      <th>Validation Loss</th>\n",
              "      <th>Accuracy</th>\n",
              "    </tr>\n",
              "  </thead>\n",
              "  <tbody>\n",
              "    <tr>\n",
              "      <td>100</td>\n",
              "      <td>0.681600</td>\n",
              "      <td>0.371333</td>\n",
              "      <td>0.892188</td>\n",
              "    </tr>\n",
              "    <tr>\n",
              "      <td>200</td>\n",
              "      <td>0.368100</td>\n",
              "      <td>0.331171</td>\n",
              "      <td>0.892188</td>\n",
              "    </tr>\n",
              "    <tr>\n",
              "      <td>300</td>\n",
              "      <td>0.330800</td>\n",
              "      <td>0.325190</td>\n",
              "      <td>0.889062</td>\n",
              "    </tr>\n",
              "    <tr>\n",
              "      <td>400</td>\n",
              "      <td>0.285400</td>\n",
              "      <td>0.325948</td>\n",
              "      <td>0.889062</td>\n",
              "    </tr>\n",
              "    <tr>\n",
              "      <td>500</td>\n",
              "      <td>0.294200</td>\n",
              "      <td>0.320231</td>\n",
              "      <td>0.896875</td>\n",
              "    </tr>\n",
              "    <tr>\n",
              "      <td>600</td>\n",
              "      <td>0.291700</td>\n",
              "      <td>0.332667</td>\n",
              "      <td>0.892188</td>\n",
              "    </tr>\n",
              "    <tr>\n",
              "      <td>700</td>\n",
              "      <td>0.302000</td>\n",
              "      <td>0.331440</td>\n",
              "      <td>0.889062</td>\n",
              "    </tr>\n",
              "    <tr>\n",
              "      <td>800</td>\n",
              "      <td>0.322500</td>\n",
              "      <td>0.321962</td>\n",
              "      <td>0.885938</td>\n",
              "    </tr>\n",
              "    <tr>\n",
              "      <td>900</td>\n",
              "      <td>0.304200</td>\n",
              "      <td>0.323736</td>\n",
              "      <td>0.898438</td>\n",
              "    </tr>\n",
              "    <tr>\n",
              "      <td>1000</td>\n",
              "      <td>0.291100</td>\n",
              "      <td>0.319028</td>\n",
              "      <td>0.896875</td>\n",
              "    </tr>\n",
              "    <tr>\n",
              "      <td>1100</td>\n",
              "      <td>0.312400</td>\n",
              "      <td>0.317047</td>\n",
              "      <td>0.895312</td>\n",
              "    </tr>\n",
              "    <tr>\n",
              "      <td>1200</td>\n",
              "      <td>0.341100</td>\n",
              "      <td>0.319869</td>\n",
              "      <td>0.893750</td>\n",
              "    </tr>\n",
              "    <tr>\n",
              "      <td>1300</td>\n",
              "      <td>0.348000</td>\n",
              "      <td>0.319800</td>\n",
              "      <td>0.896875</td>\n",
              "    </tr>\n",
              "    <tr>\n",
              "      <td>1400</td>\n",
              "      <td>0.318200</td>\n",
              "      <td>0.317157</td>\n",
              "      <td>0.898438</td>\n",
              "    </tr>\n",
              "    <tr>\n",
              "      <td>1500</td>\n",
              "      <td>0.309900</td>\n",
              "      <td>0.318099</td>\n",
              "      <td>0.898438</td>\n",
              "    </tr>\n",
              "  </tbody>\n",
              "</table><p>"
            ]
          },
          "metadata": {}
        }
      ],
      "source": [
        "peft_lora_finetuning_trainer = get_trainer(peft_model)\n",
        "\n",
        "result = peft_lora_finetuning_trainer.train()"
      ]
    },
    {
      "cell_type": "markdown",
      "id": "5183be7e-514f-4e64-a6f4-314a827e6be5",
      "metadata": {
        "id": "5183be7e-514f-4e64-a6f4-314a827e6be5"
      },
      "source": [
        "## Evaluate Finetuned Model\n"
      ]
    },
    {
      "cell_type": "markdown",
      "id": "038198cf-0953-47e7-bd47-b073d05f8378",
      "metadata": {
        "id": "038198cf-0953-47e7-bd47-b073d05f8378"
      },
      "source": [
        "### Performing Inference on Custom Input\n",
        "Uncomment following functions for running inference on custom inputs"
      ]
    },
    {
      "cell_type": "code",
      "execution_count": null,
      "id": "f88ad420-3f46-4eff-9d71-0ce388163062",
      "metadata": {
        "id": "f88ad420-3f46-4eff-9d71-0ce388163062"
      },
      "outputs": [],
      "source": [
        "def classify(model, tokenizer, text):\n",
        "    device = torch.device(\"cuda\" if torch.cuda.is_available() else \"cpu\")\n",
        "    inputs = tokenizer(text, truncation=True, padding=True, return_tensors=\"pt\").to(device)\n",
        "    output = model(**inputs)\n",
        "\n",
        "    prediction = output.logits.argmax(dim=-1).item()\n",
        "\n",
        "    print(f'\\n Class: {prediction}, Label: {id2label[prediction]}, Text: {text}')\n",
        "    return id2label[prediction]"
      ]
    },
    {
      "cell_type": "code",
      "execution_count": null,
      "id": "fc52bb94-5e13-4943-9225-a6d7fd053579",
      "metadata": {
        "id": "fc52bb94-5e13-4943-9225-a6d7fd053579"
      },
      "outputs": [],
      "source": [
        "classify( peft_model, tokenizer, \"Kederis proclaims innocence Olympic champion Kostas Kederis today left hospital ahead of his date with IOC inquisitors claiming his ...\")\n",
        "classify( peft_model, tokenizer, \"Wall St. Bears Claw Back Into the Black (Reuters) Reuters - Short-sellers, Wall Street's dwindling\\band of ultra-cynics, are seeing green again.\")"
      ]
    },
    {
      "cell_type": "markdown",
      "id": "68a3e276-bf8c-4403-8a48-5ef19f2beccf",
      "metadata": {
        "id": "68a3e276-bf8c-4403-8a48-5ef19f2beccf"
      },
      "source": [
        "### Run Inference on eval_dataset"
      ]
    },
    {
      "cell_type": "code",
      "execution_count": null,
      "id": "ebbc20a2-a1c0-4cb7-b842-f52e4de61ed5",
      "metadata": {
        "id": "ebbc20a2-a1c0-4cb7-b842-f52e4de61ed5"
      },
      "outputs": [],
      "source": [
        "from torch.utils.data import DataLoader\n",
        "import evaluate\n",
        "from tqdm import tqdm\n",
        "\n",
        "def evaluate_model(inference_model, dataset, labelled=True, batch_size=8, data_collator=None):\n",
        "    \"\"\"\n",
        "    Evaluate a PEFT model on a dataset.\n",
        "\n",
        "    Args:\n",
        "        inference_model: The model to evaluate.\n",
        "        dataset: The dataset (Hugging Face Dataset) to run inference on.\n",
        "        labelled (bool): If True, the dataset includes labels and metrics will be computed.\n",
        "                         If False, only predictions will be returned.\n",
        "        batch_size (int): Batch size for inference.\n",
        "        data_collator: Function to collate batches. If None, the default collate_fn is used.\n",
        "\n",
        "    Returns:\n",
        "        If labelled is True, returns a tuple (metrics, predictions)\n",
        "        If labelled is False, returns the predictions.\n",
        "    \"\"\"\n",
        "    # Create the DataLoader\n",
        "    eval_dataloader = DataLoader(dataset, batch_size=batch_size, collate_fn=data_collator)\n",
        "    device = torch.device(\"cuda\" if torch.cuda.is_available() else \"cpu\")\n",
        "\n",
        "    inference_model.to(device)\n",
        "    inference_model.eval()\n",
        "\n",
        "    all_predictions = []\n",
        "    if labelled:\n",
        "        metric = evaluate.load('accuracy')\n",
        "\n",
        "    # Loop over the DataLoader\n",
        "    for batch in tqdm(eval_dataloader):\n",
        "        # Move each tensor in the batch to the device\n",
        "        batch = {k: v.to(device) for k, v in batch.items()}\n",
        "        with torch.no_grad():\n",
        "            outputs = inference_model(**batch)\n",
        "        predictions = outputs.logits.argmax(dim=-1)\n",
        "        all_predictions.append(predictions.cpu())\n",
        "\n",
        "        if labelled:\n",
        "            # Expecting that labels are provided under the \"labels\" key.\n",
        "            references = batch[\"labels\"]\n",
        "            metric.add_batch(\n",
        "                predictions=predictions.cpu().numpy(),\n",
        "                references=references.cpu().numpy()\n",
        "            )\n",
        "\n",
        "    # Concatenate predictions from all batches\n",
        "    all_predictions = torch.cat(all_predictions, dim=0)\n",
        "\n",
        "    if labelled:\n",
        "        eval_metric = metric.compute()\n",
        "        print(\"Evaluation Metric:\", eval_metric)\n",
        "        return eval_metric, all_predictions\n",
        "    else:\n",
        "        return all_predictions"
      ]
    },
    {
      "cell_type": "code",
      "execution_count": null,
      "id": "809635a6-a2c7-4d09-8d60-ababd1815003",
      "metadata": {
        "id": "809635a6-a2c7-4d09-8d60-ababd1815003"
      },
      "outputs": [],
      "source": [
        "# Check evaluation accuracy\n",
        "_, _ = evaluate_model(peft_model, eval_dataset, True, 8, data_collator)"
      ]
    },
    {
      "cell_type": "code",
      "execution_count": null,
      "id": "kMJgvV1ZnVhd",
      "metadata": {
        "id": "kMJgvV1ZnVhd"
      },
      "outputs": [],
      "source": [
        "from peft import PeftConfig\n",
        "# 保存 checkpoint 的目录\n",
        "checkpoints_dir = \"results\"\n",
        "\n",
        "# 遍历所有 checkpoint 子目录\n",
        "for checkpoint_name in sorted(os.listdir(checkpoints_dir)):\n",
        "    checkpoint_path = os.path.join(checkpoints_dir, checkpoint_name)\n",
        "    if os.path.isdir(checkpoint_path) and checkpoint_name.startswith(\"checkpoint\"):\n",
        "\n",
        "        print(f\"\\nEvaluating: {checkpoint_name}\")\n",
        "\n",
        "        # 加载PEFT配置\n",
        "        peft_config = PeftConfig.from_pretrained(checkpoint_path)\n",
        "\n",
        "        # 加载基础模型\n",
        "        base = RobertaForSequenceClassification.from_pretrained(\n",
        "            peft_config.base_model_name_or_path,\n",
        "            id2label=id2label  # 你训练时用的id2label\n",
        "        )\n",
        "\n",
        "        # 加载带LoRA参数的模型\n",
        "        model = PeftModel.from_pretrained(base, checkpoint_path)\n",
        "\n",
        "        # 调用你原本的评估函数\n",
        "        metrics, _ = evaluate_model(model, eval_dataset, labelled=True, batch_size=8, data_collator=data_collator)\n",
        "        print(f\"Accuracy at {checkpoint_name}: {metrics['accuracy']:.4f}\")"
      ]
    },
    {
      "cell_type": "markdown",
      "id": "75f39087-f2bb-49d3-9fe1-0d812fb30203",
      "metadata": {
        "id": "75f39087-f2bb-49d3-9fe1-0d812fb30203"
      },
      "source": [
        "### Run Inference on unlabelled dataset"
      ]
    },
    {
      "cell_type": "code",
      "execution_count": null,
      "id": "2af62541-2c33-4f16-bb1c-cc969c715cd7",
      "metadata": {
        "colab": {
          "base_uri": "https://localhost:8080/",
          "height": 356
        },
        "id": "2af62541-2c33-4f16-bb1c-cc969c715cd7",
        "outputId": "bc432be0-47a4-4f5d-de53-90b6238ce0eb"
      },
      "outputs": [
        {
          "output_type": "error",
          "ename": "FileNotFoundError",
          "evalue": "[Errno 2] No such file or directory: 'test_unlabelled.pkl'",
          "traceback": [
            "\u001b[0;31m---------------------------------------------------------------------------\u001b[0m",
            "\u001b[0;31mFileNotFoundError\u001b[0m                         Traceback (most recent call last)",
            "\u001b[0;32m<ipython-input-20-85d27fcd8e76>\u001b[0m in \u001b[0;36m<cell line: 0>\u001b[0;34m()\u001b[0m\n\u001b[1;32m      1\u001b[0m \u001b[0;31m#Load your unlabelled data\u001b[0m\u001b[0;34m\u001b[0m\u001b[0;34m\u001b[0m\u001b[0m\n\u001b[0;32m----> 2\u001b[0;31m \u001b[0munlabelled_dataset\u001b[0m \u001b[0;34m=\u001b[0m \u001b[0mpd\u001b[0m\u001b[0;34m.\u001b[0m\u001b[0mread_pickle\u001b[0m\u001b[0;34m(\u001b[0m\u001b[0;34m\"test_unlabelled.pkl\"\u001b[0m\u001b[0;34m)\u001b[0m\u001b[0;34m\u001b[0m\u001b[0;34m\u001b[0m\u001b[0m\n\u001b[0m\u001b[1;32m      3\u001b[0m \u001b[0mtest_dataset\u001b[0m \u001b[0;34m=\u001b[0m \u001b[0munlabelled_dataset\u001b[0m\u001b[0;34m.\u001b[0m\u001b[0mmap\u001b[0m\u001b[0;34m(\u001b[0m\u001b[0mpreprocess\u001b[0m\u001b[0;34m,\u001b[0m \u001b[0mbatched\u001b[0m\u001b[0;34m=\u001b[0m\u001b[0;32mTrue\u001b[0m\u001b[0;34m,\u001b[0m \u001b[0mremove_columns\u001b[0m\u001b[0;34m=\u001b[0m\u001b[0;34m[\u001b[0m\u001b[0;34m\"text\"\u001b[0m\u001b[0;34m]\u001b[0m\u001b[0;34m)\u001b[0m\u001b[0;34m\u001b[0m\u001b[0;34m\u001b[0m\u001b[0m\n\u001b[1;32m      4\u001b[0m \u001b[0munlabelled_dataset\u001b[0m\u001b[0;34m\u001b[0m\u001b[0;34m\u001b[0m\u001b[0m\n",
            "\u001b[0;32m/usr/local/lib/python3.11/dist-packages/pandas/io/pickle.py\u001b[0m in \u001b[0;36mread_pickle\u001b[0;34m(filepath_or_buffer, compression, storage_options)\u001b[0m\n\u001b[1;32m    183\u001b[0m     \"\"\"\n\u001b[1;32m    184\u001b[0m     \u001b[0mexcs_to_catch\u001b[0m \u001b[0;34m=\u001b[0m \u001b[0;34m(\u001b[0m\u001b[0mAttributeError\u001b[0m\u001b[0;34m,\u001b[0m \u001b[0mImportError\u001b[0m\u001b[0;34m,\u001b[0m \u001b[0mModuleNotFoundError\u001b[0m\u001b[0;34m,\u001b[0m \u001b[0mTypeError\u001b[0m\u001b[0;34m)\u001b[0m\u001b[0;34m\u001b[0m\u001b[0;34m\u001b[0m\u001b[0m\n\u001b[0;32m--> 185\u001b[0;31m     with get_handle(\n\u001b[0m\u001b[1;32m    186\u001b[0m         \u001b[0mfilepath_or_buffer\u001b[0m\u001b[0;34m,\u001b[0m\u001b[0;34m\u001b[0m\u001b[0;34m\u001b[0m\u001b[0m\n\u001b[1;32m    187\u001b[0m         \u001b[0;34m\"rb\"\u001b[0m\u001b[0;34m,\u001b[0m\u001b[0;34m\u001b[0m\u001b[0;34m\u001b[0m\u001b[0m\n",
            "\u001b[0;32m/usr/local/lib/python3.11/dist-packages/pandas/io/common.py\u001b[0m in \u001b[0;36mget_handle\u001b[0;34m(path_or_buf, mode, encoding, compression, memory_map, is_text, errors, storage_options)\u001b[0m\n\u001b[1;32m    880\u001b[0m         \u001b[0;32melse\u001b[0m\u001b[0;34m:\u001b[0m\u001b[0;34m\u001b[0m\u001b[0;34m\u001b[0m\u001b[0m\n\u001b[1;32m    881\u001b[0m             \u001b[0;31m# Binary mode\u001b[0m\u001b[0;34m\u001b[0m\u001b[0;34m\u001b[0m\u001b[0m\n\u001b[0;32m--> 882\u001b[0;31m             \u001b[0mhandle\u001b[0m \u001b[0;34m=\u001b[0m \u001b[0mopen\u001b[0m\u001b[0;34m(\u001b[0m\u001b[0mhandle\u001b[0m\u001b[0;34m,\u001b[0m \u001b[0mioargs\u001b[0m\u001b[0;34m.\u001b[0m\u001b[0mmode\u001b[0m\u001b[0;34m)\u001b[0m\u001b[0;34m\u001b[0m\u001b[0;34m\u001b[0m\u001b[0m\n\u001b[0m\u001b[1;32m    883\u001b[0m         \u001b[0mhandles\u001b[0m\u001b[0;34m.\u001b[0m\u001b[0mappend\u001b[0m\u001b[0;34m(\u001b[0m\u001b[0mhandle\u001b[0m\u001b[0;34m)\u001b[0m\u001b[0;34m\u001b[0m\u001b[0;34m\u001b[0m\u001b[0m\n\u001b[1;32m    884\u001b[0m \u001b[0;34m\u001b[0m\u001b[0m\n",
            "\u001b[0;31mFileNotFoundError\u001b[0m: [Errno 2] No such file or directory: 'test_unlabelled.pkl'"
          ]
        }
      ],
      "source": [
        "#Load your unlabelled data\n",
        "unlabelled_dataset = pd.read_pickle(\"test_unlabelled.pkl\")\n",
        "test_dataset = unlabelled_dataset.map(preprocess, batched=True, remove_columns=[\"text\"])\n",
        "unlabelled_dataset"
      ]
    },
    {
      "cell_type": "code",
      "execution_count": null,
      "id": "e60991d3-38b1-4657-8854-408ce66f6b84",
      "metadata": {
        "id": "e60991d3-38b1-4657-8854-408ce66f6b84"
      },
      "outputs": [],
      "source": [
        "# Run inference and save predictions\n",
        "preds = evaluate_model(peft_model, test_dataset, False, 8, data_collator)\n",
        "df_output = pd.DataFrame({\n",
        "    'ID': range(len(preds)),\n",
        "    'Label': preds.numpy()  # or preds.tolist()\n",
        "})\n",
        "df_output.to_csv(os.path.join(output_dir,\"inference_output.csv\"), index=False)\n",
        "print(\"Inference complete. Predictions saved to inference_output.csv\")"
      ]
    },
    {
      "cell_type": "code",
      "execution_count": null,
      "id": "hN4JyFyZMAv9",
      "metadata": {
        "id": "hN4JyFyZMAv9"
      },
      "outputs": [],
      "source": [
        "# 加载PEFT配置\n",
        "best_checkpoint_path = \"results/checkpoint-2500\"\n",
        "peft_config = PeftConfig.from_pretrained(best_checkpoint_path)\n",
        "\n",
        "# 加载基础模型\n",
        "base = RobertaForSequenceClassification.from_pretrained(\n",
        "    peft_config.base_model_name_or_path,\n",
        "    id2label=id2label  # 你训练时用的id2label\n",
        ")\n",
        "\n",
        "# 加载带LoRA参数的模型\n",
        "model = PeftModel.from_pretrained(base, best_checkpoint_path)\n",
        "preds = evaluate_model(model, test_dataset, False, 8, data_collator)\n",
        "df_output = pd.DataFrame({\n",
        "    'ID': range(len(preds)),\n",
        "    'Label': preds.numpy()  # or preds.tolist()\n",
        "})\n",
        "df_output.to_csv(os.path.join(output_dir,\"inference_output_checkpoint_2500.csv\"), index=False)\n",
        "print(\"Inference complete. Predictions saved to inference_output.csv\")"
      ]
    },
    {
      "cell_type": "code",
      "execution_count": null,
      "id": "8uc7HeZ1temJ",
      "metadata": {
        "id": "8uc7HeZ1temJ"
      },
      "outputs": [],
      "source": []
    }
  ],
  "metadata": {
    "accelerator": "GPU",
    "colab": {
      "gpuType": "A100",
      "provenance": [],
      "machine_shape": "hm"
    },
    "kernelspec": {
      "display_name": "Python 3",
      "name": "python3"
    },
    "language_info": {
      "codemirror_mode": {
        "name": "ipython",
        "version": 3
      },
      "file_extension": ".py",
      "mimetype": "text/x-python",
      "name": "python",
      "nbconvert_exporter": "python",
      "pygments_lexer": "ipython3",
      "version": "3.11.9"
    }
  },
  "nbformat": 4,
  "nbformat_minor": 5
}